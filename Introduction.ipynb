{
 "cells": [
  {
   "cell_type": "markdown",
   "metadata": {},
   "source": [
    "# Introduction "
   ]
  },
  {
   "cell_type": "markdown",
   "metadata": {},
   "source": [
    "<b><i>The result may differ from that of facts or ccan be seen on google as the Foursquare API has its on limitations for free users.</i></b>\n",
    "\n",
    "\n",
    "\n",
    "Coronavirus disease 2019 (COVID-19) is an infectious disease caused by severe acute respiratory syndrome coronavirus 2 (SARS-CoV-2).It was first identified in December 2019 in Wuhan, the capital of China's Hubei province, and has since spread globally, resulting in an ongoing pandemic.As of 4 May 2020, more than 3.52 million cases have been reported across 187 countries and territories, resulting in more than 248,000 deaths. More than 1.13 million people have recovered.\n",
    "\n",
    "In India 42,000 (as of now) cases have been confirmed, out of which nearly 12,000 (as of now) cases are alone from Maharashtra.\n",
    "Maharashtra can me said most developed state in India, hence people from all the other states from India migrate to Maharastra, Mumbai to be specific, which results in dense population of the state."
   ]
  },
  {
   "cell_type": "markdown",
   "metadata": {},
   "source": [
    "# Problem"
   ]
  },
  {
   "cell_type": "markdown",
   "metadata": {},
   "source": [
    "This is the study to visualise the number of hospitals for the citizens in this sate.\n",
    "I'll be comparing the situations between a city and a rural town/district of Maharashtra.\n",
    "City - Mumbai\n",
    "Rural town - Ratanagiri\n",
    "This study will show us the number of hospitals available for the citizens in respective places.\n",
    "<b>Is the number and the density of the hospitals are satisfactory? and can they handle the number of citizens?</b>"
   ]
  },
  {
   "cell_type": "markdown",
   "metadata": {},
   "source": [
    "# Data and Methodology"
   ]
  },
  {
   "cell_type": "markdown",
   "metadata": {},
   "source": [
    "The Data fetched from Foursquare API will be converted to the pandas DataFrame.\n",
    "This Data will be used to compare the number of Hospitals in the two districts.\n",
    "The location data (longitude and latitude) can be used to plot the markers on map using folium module.\n",
    "The map will help us to visualise the Density of Hospitals Present in the respective Districts.\n",
    "The Data fetched also shows us the distance of the hospitals from the location of the places.\n",
    "<b>Since the limitation of the API let us fetch 50 records at a time, i increased the radius of the location. The 50 records fetched are in the radius of 6000000000 mts </b>\n",
    "<b>The useful columns in the records were : name (name of hospital), location.lat (latitude), location.lng (longitude) and location.distance (Distance from the location of Red Mark)</b>"
   ]
  },
  {
   "cell_type": "markdown",
   "metadata": {},
   "source": [
    "# Result and Discussion"
   ]
  },
  {
   "cell_type": "markdown",
   "metadata": {},
   "source": [
    "Result of this study is that me fetched <b>50 records for each location</b>\n",
    "The <b>hospitals in Mumbai were denser than the hospitals in Rantnagiri</b> hence more <b>closer to the location.</b>\n",
    "Though the hospitals in Mumbai were closer and denser than that of Ratanagiri, being a urban city, <b>Mumbai has the population of 1.84 Crores (~18.4 Million). Can the hospitals of Mumbai handle this much of population? Are there enough beds for the patients?</b> Whereas the <b>population of Ratnagiri is of ~76,000, but the hospitals are far from the location. Beign in Rural area, is there good roads for the transportation? Is the transportation regular? Can patients and doctors reach at the destination on time?</b>\n",
    "\n",
    "The notebook can be found here : https://github.com/tanmaymane18/Coursera_Capstone"
   ]
  },
  {
   "cell_type": "markdown",
   "metadata": {},
   "source": [
    "# Conclusion"
   ]
  },
  {
   "cell_type": "markdown",
   "metadata": {},
   "source": [
    "Conclusion of my report is that <b>population need to be handled or new hospitals is to be build in cities like Mumbai where people from all over the India migrate for jobs. Where as in rurals places, construction of new hospitals is must and transportation should be imporved.</b>\n",
    "Further research is needed on the Number of beds available, number of ventilators available, number of soctors and other health workers available.\n",
    "This study was just to see the density and availability of the hospitals in urban and rural places on Maharashtra, India."
   ]
  }
 ],
 "metadata": {
  "kernelspec": {
   "display_name": "Python 3",
   "language": "python",
   "name": "python3"
  },
  "language_info": {
   "codemirror_mode": {
    "name": "ipython",
    "version": 3
   },
   "file_extension": ".py",
   "mimetype": "text/x-python",
   "name": "python",
   "nbconvert_exporter": "python",
   "pygments_lexer": "ipython3",
   "version": "3.6.5"
  }
 },
 "nbformat": 4,
 "nbformat_minor": 2
}

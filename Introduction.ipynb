{
 "cells": [
  {
   "cell_type": "markdown",
   "metadata": {},
   "source": [
    "# Introduction to the Problem"
   ]
  },
  {
   "cell_type": "markdown",
   "metadata": {},
   "source": [
    "<b>Problem : </b> To study the Hospital facilities available to the citizens of a city like Mumbai and to the citizens of a rural place like Ratnagiri. Both are the districts of Maharashtra, a state in India. This study will help the Politicians and other Govt workers of the state to develope the respective places in terms of the Hospital/Medical Facilities do that in situations like Covid-19 or other pandemic there would would be enough Hospitals for the citizens.\n",
    "Using the Foursquare API, the general data of hospitals present in the areas can be fetched."
   ]
  },
  {
   "cell_type": "markdown",
   "metadata": {},
   "source": [
    "# Data"
   ]
  },
  {
   "cell_type": "markdown",
   "metadata": {},
   "source": [
    "The Data fetched from Foursquare API will be converted to the pandas DataFrame.\n",
    "This Data will be used to compare the number of Hospitals in the two districts.\n",
    "The location data (longitude and latitude) can be used to plot the markers on map using folium module.\n",
    "The map will help us to visualise the Density of Hospitals Present in the respective Districts."
   ]
  }
 ],
 "metadata": {
  "kernelspec": {
   "display_name": "Python 3",
   "language": "python",
   "name": "python3"
  },
  "language_info": {
   "codemirror_mode": {
    "name": "ipython",
    "version": 3
   },
   "file_extension": ".py",
   "mimetype": "text/x-python",
   "name": "python",
   "nbconvert_exporter": "python",
   "pygments_lexer": "ipython3",
   "version": "3.6.5"
  }
 },
 "nbformat": 4,
 "nbformat_minor": 2
}
